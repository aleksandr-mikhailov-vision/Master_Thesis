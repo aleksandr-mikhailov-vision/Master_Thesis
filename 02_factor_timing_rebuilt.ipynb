{
 "cells": [
  {
   "cell_type": "markdown",
   "metadata": {},
   "source": [
    "# 0 Library Import"
   ]
  },
  {
   "cell_type": "code",
   "execution_count": 1,
   "metadata": {},
   "outputs": [],
   "source": [
    "# Import libraries\n",
    "import pandas as pd\n",
    "import numpy as np\n",
    "from scipy.optimize import minimize\n",
    "import matplotlib.pyplot as plt\n",
    "from scipy.stats import norm"
   ]
  },
  {
   "cell_type": "markdown",
   "metadata": {},
   "source": [
    "# 1. Usual factors"
   ]
  },
  {
   "cell_type": "markdown",
   "metadata": {},
   "source": [
    "## 1.1 Factor Data Import"
   ]
  },
  {
   "cell_type": "markdown",
   "metadata": {},
   "source": [
    "Loading the dataset of individual factor returns on daily level"
   ]
  },
  {
   "cell_type": "code",
   "execution_count": 2,
   "metadata": {},
   "outputs": [],
   "source": [
    "factor_ret_m = pd.read_csv('data/Fama_French_monthly_data_5_factors.csv', index_col=0)\n",
    "factor_ret_m.index = pd.to_datetime(factor_ret_m.index)"
   ]
  },
  {
   "cell_type": "markdown",
   "metadata": {},
   "source": [
    "## 1.2 Explanation of Factors"
   ]
  },
  {
   "cell_type": "markdown",
   "metadata": {},
   "source": [
    "1. **Market (from Fama and French, 2015):**\\\n",
    "This represents the excess return of the market over the risk-free rate (Market Return - Risk-Free Rate). It is the foundational factor in asset pricing, capturing the equity market premium. Investors demand a risk premium for bearing systematic (market) risk. Stocks with higher sensitivity to market fluctuations (high beta) earn higher expected returns over time to compensate investors for exposure to market volatility.\n",
    "\n",
    "3. **SMB (Small Minus Big, from Fama and French, 2015):**\\\n",
    "This factor captures the size effect. It is the return spread between small-cap and large-cap stocks, reflecting the tendency of smaller firms to outperform larger firms over time. Small-cap firms tend to be riskier than large-cap firms due to less diversification, limited resources, and higher vulnerability to economic downturns. Investors demand higher returns for holding these riskier stocks.\n",
    "\n",
    "4. **HML (High Minus Low, from Fama and French, 2015):**\\\n",
    "This factor represents the value effect. It measures the return spread between high book-to-market (value) stocks and low book-to-market (growth) stocks, reflecting the tendency for value stocks to outperform growth stocks. Value stocks (high book-to-market) are often companies in distress or undergoing restructuring, leading to higher perceived risk. Investors require a risk premium to hold these stocks.\n",
    "\n",
    "5. **RMW (Robust Minus Weak, from Fama and French, 2015):**\\\n",
    "Profitability factor introduced in their five-factor model. It captures the return spread between firms with robust profitability and firms with weak profitability, showing the tendency of more profitable firms to generate higher returns. Firms with robust profitability (higher earnings relative to assets) have better cash flows and are less likely to face financial distress. This makes them less risky, but empirically, they still earn higher returns.\n",
    "\n",
    "6. **CMA (Conservative Minus Aggressive, from Fama and French, 2015):**\\\n",
    "Investment factor also introduced in the five-factor model. It measures the return spread between firms with conservative investment strategies and those with aggressive investment strategies, capturing the tendency for firms that invest conservatively to outperform. Firms with aggressive investment policies (e.g., high growth) often take on excessive risk, which does not always translate to higher profitability. Conservative firms, with steady investment, are less risky and more efficient with capital."
   ]
  },
  {
   "cell_type": "markdown",
   "metadata": {},
   "source": [
    "# 2. Vol-managed factors\n",
    "\n",
    "## 2.1 Downloading dailty factor data and calculating monthly realized variance (RV) for each factor"
   ]
  },
  {
   "cell_type": "code",
   "execution_count": 3,
   "metadata": {},
   "outputs": [],
   "source": [
    "def standardize_to_mean_one(s):\n",
    "    # positive series -> scale so mean == 1\n",
    "    return s / s.mean()"
   ]
  },
  {
   "cell_type": "code",
   "execution_count": 4,
   "metadata": {},
   "outputs": [],
   "source": [
    "# Extracting tickers from the Symbol column\n",
    "factor_ret_d = pd.read_csv('data/Fama_French_daily_data_5_factors.csv', index_col=0)\n",
    "factor_ret_d.index = pd.to_datetime(factor_ret_d.index, format='%Y-%m-%d')     "
   ]
  },
  {
   "cell_type": "markdown",
   "metadata": {},
   "source": [
    " \n",
    "$\n",
    "\\widehat{\\sigma}^2_{t} \\;=\\; \\sum_{d \\in t} r_{d}^{\\,2}.\n",
    "$"
   ]
  },
  {
   "cell_type": "code",
   "execution_count": 5,
   "metadata": {},
   "outputs": [],
   "source": [
    "### Getting the daily volatilites we are missing using the daily returns\n",
    "RV = pd.DataFrame(index=factor_ret_m.index, columns=factor_ret_m.columns)\n",
    "\n",
    "# find for each date in monthly observations all days that have the same month and year. Then find std\n",
    "for factor in factor_ret_m.columns:\n",
    "    for date in factor_ret_m.index:\n",
    "        RV.loc[date, factor] = (factor_ret_d.loc[(factor_ret_d.index.month == date.month) & (factor_ret_d.index.year == date.year), factor]**2).resample('M').sum().values[0]"
   ]
  },
  {
   "cell_type": "markdown",
   "metadata": {},
   "source": [
    "## 2.2 Calculating unscaled vol-managed factor performance"
   ]
  },
  {
   "cell_type": "markdown",
   "metadata": {},
   "source": [
    "Unscaled volatility-managed return (uses information known at t-1)\n",
    "\n",
    "$\\tilde f^{\\sigma}_{t} \\;=\\; \\frac{1}{\\widehat{\\sigma}^2_{t-1}} \\, f_{t}$"
   ]
  },
  {
   "cell_type": "code",
   "execution_count": 6,
   "metadata": {},
   "outputs": [],
   "source": [
    "unscaled_vol_managed_factor = factor_ret_m/RV.shift(1)"
   ]
  },
  {
   "cell_type": "code",
   "execution_count": 7,
   "metadata": {},
   "outputs": [
    {
     "data": {
      "text/html": [
       "<div>\n",
       "<style scoped>\n",
       "    .dataframe tbody tr th:only-of-type {\n",
       "        vertical-align: middle;\n",
       "    }\n",
       "\n",
       "    .dataframe tbody tr th {\n",
       "        vertical-align: top;\n",
       "    }\n",
       "\n",
       "    .dataframe thead th {\n",
       "        text-align: right;\n",
       "    }\n",
       "</style>\n",
       "<table border=\"1\" class=\"dataframe\">\n",
       "  <thead>\n",
       "    <tr style=\"text-align: right;\">\n",
       "      <th></th>\n",
       "      <th>MKT</th>\n",
       "      <th>SMB</th>\n",
       "      <th>HML</th>\n",
       "      <th>RMW</th>\n",
       "      <th>CMA</th>\n",
       "    </tr>\n",
       "  </thead>\n",
       "  <tbody>\n",
       "    <tr>\n",
       "      <th>1963-07-31</th>\n",
       "      <td>NaN</td>\n",
       "      <td>NaN</td>\n",
       "      <td>NaN</td>\n",
       "      <td>NaN</td>\n",
       "      <td>NaN</td>\n",
       "    </tr>\n",
       "    <tr>\n",
       "      <th>1963-08-31</th>\n",
       "      <td>-1.700391</td>\n",
       "      <td>-26.779737</td>\n",
       "      <td>-15.490944</td>\n",
       "      <td>27.13421</td>\n",
       "      <td>-10.771509</td>\n",
       "    </tr>\n",
       "    <tr>\n",
       "      <th>1963-09-30</th>\n",
       "      <td>7.800047</td>\n",
       "      <td>9.56807</td>\n",
       "      <td>7.325241</td>\n",
       "      <td>-3.539823</td>\n",
       "      <td>34.979424</td>\n",
       "    </tr>\n",
       "    <tr>\n",
       "      <th>1963-10-31</th>\n",
       "      <td>21.285653</td>\n",
       "      <td>-19.707207</td>\n",
       "      <td>34.727045</td>\n",
       "      <td>-10.411244</td>\n",
       "      <td>-42.30274</td>\n",
       "    </tr>\n",
       "    <tr>\n",
       "      <th>1963-11-30</th>\n",
       "      <td>-4.309519</td>\n",
       "      <td>15.074212</td>\n",
       "      <td>8.365534</td>\n",
       "      <td>-13.673939</td>\n",
       "      <td>7.249379</td>\n",
       "    </tr>\n",
       "    <tr>\n",
       "      <th>...</th>\n",
       "      <td>...</td>\n",
       "      <td>...</td>\n",
       "      <td>...</td>\n",
       "      <td>...</td>\n",
       "      <td>...</td>\n",
       "    </tr>\n",
       "    <tr>\n",
       "      <th>2024-08-31</th>\n",
       "      <td>-9.123984</td>\n",
       "      <td>-3.212319</td>\n",
       "      <td>-2.987351</td>\n",
       "      <td>15.948963</td>\n",
       "      <td>-12.81682</td>\n",
       "    </tr>\n",
       "    <tr>\n",
       "      <th>2024-09-30</th>\n",
       "      <td>-6.376184</td>\n",
       "      <td>-5.444339</td>\n",
       "      <td>13.472283</td>\n",
       "      <td>11.809041</td>\n",
       "      <td>-11.863083</td>\n",
       "    </tr>\n",
       "    <tr>\n",
       "      <th>2024-10-31</th>\n",
       "      <td>-6.077923</td>\n",
       "      <td>-6.992044</td>\n",
       "      <td>-0.204107</td>\n",
       "      <td>24.03698</td>\n",
       "      <td>-20.318682</td>\n",
       "    </tr>\n",
       "    <tr>\n",
       "      <th>2024-11-30</th>\n",
       "      <td>4.218016</td>\n",
       "      <td>3.706598</td>\n",
       "      <td>-11.61985</td>\n",
       "      <td>-10.371139</td>\n",
       "      <td>5.69395</td>\n",
       "    </tr>\n",
       "    <tr>\n",
       "      <th>2024-12-31</th>\n",
       "      <td>1.395125</td>\n",
       "      <td>0.928012</td>\n",
       "      <td>-2.168025</td>\n",
       "      <td>10.086455</td>\n",
       "      <td>-8.161386</td>\n",
       "    </tr>\n",
       "  </tbody>\n",
       "</table>\n",
       "<p>738 rows × 5 columns</p>\n",
       "</div>"
      ],
      "text/plain": [
       "                  MKT        SMB        HML        RMW        CMA\n",
       "1963-07-31        NaN        NaN        NaN        NaN        NaN\n",
       "1963-08-31  -1.700391 -26.779737 -15.490944   27.13421 -10.771509\n",
       "1963-09-30   7.800047    9.56807   7.325241  -3.539823  34.979424\n",
       "1963-10-31  21.285653 -19.707207  34.727045 -10.411244  -42.30274\n",
       "1963-11-30  -4.309519  15.074212   8.365534 -13.673939   7.249379\n",
       "...               ...        ...        ...        ...        ...\n",
       "2024-08-31  -9.123984  -3.212319  -2.987351  15.948963  -12.81682\n",
       "2024-09-30  -6.376184  -5.444339  13.472283  11.809041 -11.863083\n",
       "2024-10-31  -6.077923  -6.992044  -0.204107   24.03698 -20.318682\n",
       "2024-11-30   4.218016   3.706598  -11.61985 -10.371139    5.69395\n",
       "2024-12-31   1.395125   0.928012  -2.168025  10.086455  -8.161386\n",
       "\n",
       "[738 rows x 5 columns]"
      ]
     },
     "execution_count": 7,
     "metadata": {},
     "output_type": "execute_result"
    }
   ],
   "source": [
    "unscaled_vol_managed_factor"
   ]
  },
  {
   "cell_type": "markdown",
   "metadata": {},
   "source": [
    "## 2.3 Calculating c out-of-sample"
   ]
  },
  {
   "cell_type": "markdown",
   "metadata": {},
   "source": [
    "Out-of-sample volatility-matching scale on a rolling window of length T\n",
    "\n",
    "$\n",
    "c_{t} \\;=\\;\n",
    "\\frac{\\operatorname{Std}\\!\\left( f_{t-T:\\,t-1} \\right)}\n",
    "     {\\operatorname{Std}\\!\\left( \\tilde f^{\\sigma}_{t-T:\\,t-1} \\right)}.\n",
    "$"
   ]
  },
  {
   "cell_type": "code",
   "execution_count": 8,
   "metadata": {},
   "outputs": [],
   "source": [
    "T = 120\n",
    "\n",
    "std_normal_factor = factor_ret_m.rolling(120).std()\n",
    "# use rolling window to keep oos\n",
    "std_vol_managed_unscaled_factor = unscaled_vol_managed_factor.rolling(120).std()\n",
    "# to keep out-of-sample also need to shift c by 1 month\n",
    "c_vol = (std_normal_factor / std_vol_managed_unscaled_factor).shift(1)"
   ]
  },
  {
   "cell_type": "markdown",
   "metadata": {},
   "source": [
    "## 2.4 Find final vol-managed return"
   ]
  },
  {
   "cell_type": "markdown",
   "metadata": {},
   "source": [
    "$f^{\\sigma}_{t} \\;=\\; c_{t} \\, \\tilde f^{\\sigma}_{t}.$"
   ]
  },
  {
   "cell_type": "code",
   "execution_count": 9,
   "metadata": {},
   "outputs": [],
   "source": [
    "factor_ret_vol_managed_m = unscaled_vol_managed_factor * c_vol"
   ]
  },
  {
   "cell_type": "markdown",
   "metadata": {},
   "source": [
    "# 3. Sentiment-managed factors via EPU"
   ]
  },
  {
   "cell_type": "markdown",
   "metadata": {},
   "source": [
    "## 3.1 Download the data on EPU"
   ]
  },
  {
   "cell_type": "code",
   "execution_count": 10,
   "metadata": {},
   "outputs": [],
   "source": [
    "epu = pd.read_csv('data/US_Policy_Uncertainty_Data.csv')\n",
    "epu.index = pd.to_datetime(epu.Date)\n",
    "epu = epu.drop(columns = ['Date'])\n",
    "epu.index = epu.index + pd.DateOffset(days = -1)\n",
    "epu = epu.sort_index()"
   ]
  },
  {
   "cell_type": "markdown",
   "metadata": {},
   "source": [
    "truncating dates"
   ]
  },
  {
   "cell_type": "code",
   "execution_count": 11,
   "metadata": {},
   "outputs": [],
   "source": [
    "epu = epu.loc[sorted(factor_ret_m.index)[0]:sorted(factor_ret_m.index)[-1],:]"
   ]
  },
  {
   "cell_type": "markdown",
   "metadata": {},
   "source": [
    "## 3.2 Calculating unscaled EPU-managed factor performance"
   ]
  },
  {
   "cell_type": "markdown",
   "metadata": {},
   "source": [
    "$\\tilde f^{\\sigma}_{t} \\;=\\; \\frac{1}{EPU^2_{t-1}} \\, f_{t}$"
   ]
  },
  {
   "cell_type": "code",
   "execution_count": 12,
   "metadata": {},
   "outputs": [],
   "source": [
    "unscaled_epu_managed_factor = factor_ret_m.div(epu.iloc[:,0].shift(1),axis =0)"
   ]
  },
  {
   "cell_type": "markdown",
   "metadata": {},
   "source": [
    "## 3.3 Calculating c out-of-sample"
   ]
  },
  {
   "cell_type": "markdown",
   "metadata": {},
   "source": [
    "\n",
    "$\n",
    "c_{t} \\;=\\;\n",
    "\\frac{\\operatorname{Std}\\!\\left( f_{t-T:\\,t-1} \\right)}\n",
    "     {\\operatorname{Std}\\!\\left( \\tilde f^{EPU}_{t-T:\\,t-1} \\right)}.\n",
    "$"
   ]
  },
  {
   "cell_type": "code",
   "execution_count": 13,
   "metadata": {},
   "outputs": [],
   "source": [
    "T = 120\n",
    "\n",
    "std_normal_factor = factor_ret_m.rolling(120).std()\n",
    "# use rolling window to keep oos\n",
    "std_epu_managed_unscaled_factor = unscaled_epu_managed_factor.rolling(120).std()\n",
    "# to keep out-of-sample also need to shift c by 1 month\n",
    "c_epu = (std_normal_factor / std_epu_managed_unscaled_factor).shift(1)"
   ]
  },
  {
   "cell_type": "markdown",
   "metadata": {},
   "source": [
    "## 3.4 Find epu-managed factor return"
   ]
  },
  {
   "cell_type": "code",
   "execution_count": 14,
   "metadata": {},
   "outputs": [],
   "source": [
    "factor_ret_epu_managed_m = unscaled_epu_managed_factor * c_epu"
   ]
  },
  {
   "cell_type": "markdown",
   "metadata": {},
   "source": [
    "# 4. Analysis"
   ]
  },
  {
   "cell_type": "markdown",
   "metadata": {},
   "source": [
    "### 4.1 Trim all factors so that the comparison windows are same"
   ]
  },
  {
   "cell_type": "code",
   "execution_count": 15,
   "metadata": {},
   "outputs": [],
   "source": [
    "# starting date\n",
    "assert factor_ret_epu_managed_m.dropna().index[0] == factor_ret_vol_managed_m.dropna().index[0]\n",
    "starting_date = factor_ret_epu_managed_m.dropna().index[0]\n",
    "\n",
    "# ending date\n",
    "assert factor_ret_epu_managed_m.dropna().index[-1] == factor_ret_vol_managed_m.dropna().index[-1] == factor_ret_m.index[-1] "
   ]
  },
  {
   "cell_type": "code",
   "execution_count": 16,
   "metadata": {},
   "outputs": [],
   "source": [
    "factor_ret_epu_managed_m = factor_ret_epu_managed_m.loc[starting_date:,:]\n",
    "factor_ret_vol_managed_m = factor_ret_vol_managed_m.loc[starting_date:,:]\n",
    "factor_ret_m = factor_ret_m.loc[starting_date:,:]"
   ]
  },
  {
   "cell_type": "markdown",
   "metadata": {},
   "source": [
    "### 4.2 functions for SR calculation and Ledoit-Wolf Z-test with bootstrap"
   ]
  },
  {
   "cell_type": "code",
   "execution_count": 17,
   "metadata": {},
   "outputs": [],
   "source": [
    "import numpy as np\n",
    "import pandas as pd\n",
    "from scipy.stats import norm\n",
    "\n",
    "# ---------- Core utilities ----------\n",
    "def sharpe_ratio(r, freq=12, rf=None):\n",
    "    \"\"\"\n",
    "    Annualized Sharpe ratio for Series/DataFrame r (per-period returns).\n",
    "    If rf is provided (scalar or Series), SR is computed on (r - rf).\n",
    "    \"\"\"\n",
    "    r = pd.DataFrame(r).copy()\n",
    "    if rf is not None:\n",
    "        rf_ = rf if isinstance(rf, pd.Series) else pd.Series(rf, index=r.index)\n",
    "        r = r.sub(rf_, axis=0)\n",
    "    mu = r.mean()\n",
    "    sd = r.std(ddof=1)\n",
    "    return np.sqrt(freq) * mu / sd\n",
    "\n",
    "\n",
    "def ledoit_wolf_sr_test(r1, r2, freq=12, rf=None, n_boot=4000, block_len=6, seed=123):\n",
    "    \"\"\"\n",
    "    Ledoit–Wolf asymptotic Z-test + block-bootstrap p-value for SR difference.\n",
    "    Returns dict with SR1, SR2, diff, z_asym, p_asym, p_boot.\n",
    "    \"\"\"\n",
    "    df = pd.concat([pd.Series(r1), pd.Series(r2)], axis=1).dropna()\n",
    "    df.columns = ['r1', 'r2']\n",
    "    if rf is not None:\n",
    "        rf_ = rf if isinstance(rf, pd.Series) else pd.Series(rf, index=df.index)\n",
    "        rf_ = rf_.reindex(df.index).fillna(method='ffill')\n",
    "        df = df.sub(rf_, axis=0)\n",
    "\n",
    "    T = len(df)\n",
    "    if T < 24:\n",
    "        raise ValueError(\"Not enough observations for a reliable SR test.\")\n",
    "\n",
    "    # Annualized SRs\n",
    "    SR1 = np.sqrt(freq) * df['r1'].mean() / df['r1'].std(ddof=1)\n",
    "    SR2 = np.sqrt(freq) * df['r2'].mean() / df['r2'].std(ddof=1)\n",
    "    diff = SR2 - SR1  # NOTE: second minus first (matches table convention)\n",
    "\n",
    "    # Ledoit–Wolf asymptotic variance of SR2 − SR1\n",
    "    rho = df['r1'].corr(df['r2'])\n",
    "    var_diff = (1.0 / T) * (2 - 2 * rho + 0.5 * (SR2**2 + SR1**2 - 2 * SR2 * SR1 * rho**2))\n",
    "    z = diff / np.sqrt(var_diff)\n",
    "    p_asym = 2 * (1 - norm.cdf(abs(z)))\n",
    "\n",
    "    # Block bootstrap (circular) for finite-sample robustness\n",
    "    rng = np.random.default_rng(seed)\n",
    "    L = int(block_len)\n",
    "    B = int(n_boot)\n",
    "    n_blocks = int(np.ceil(T / L))\n",
    "    vals = df[['r1', 'r2']].to_numpy()\n",
    "    diffs = np.empty(B)\n",
    "\n",
    "    for b in range(B):\n",
    "        starts = rng.integers(0, T, size=n_blocks)\n",
    "        idx = np.concatenate([np.arange(s, s+L) % T for s in starts])[:T]\n",
    "        r1b, r2b = vals[idx, 0], vals[idx, 1]\n",
    "        SR1b = np.sqrt(freq) * r1b.mean() / r1b.std(ddof=1)\n",
    "        SR2b = np.sqrt(freq) * r2b.mean() / r2b.std(ddof=1)\n",
    "        diffs[b] = SR2b - SR1b\n",
    "\n",
    "    # two-sided bootstrap p-value\n",
    "    centered = diffs - diffs.mean()\n",
    "    p_boot = (np.abs(centered) >= np.abs(diff - diffs.mean())).mean()\n",
    "\n",
    "    return {'SR1': SR1, 'SR2': SR2, 'diff': diff, 'z_asym': z, 'p_asym': p_asym, 'p_boot': p_boot}\n",
    "\n",
    "\n",
    "# ---------- Build the requested table ----------\n",
    "def build_sr_diff_table(ret_orig, ret_vol, ret_epu,\n",
    "                        freq=12, rf=None,\n",
    "                        n_boot=4000, block_len=6, seed=123):\n",
    "    \"\"\"\n",
    "    Columns = factors. Rows:\n",
    "      SR: Original\n",
    "      SR: Vol-Managed\n",
    "      SR: EPU-Managed\n",
    "      ΔSR (Vol − Original)\n",
    "      p (Vol vs Orig)\n",
    "      ΔSR (EPU − Original)\n",
    "      p (EPU vs Orig)\n",
    "      ΔSR (EPU − Vol)\n",
    "      p (EPU vs Vol)\n",
    "    \"\"\"\n",
    "    idx = ret_orig.index.intersection(ret_vol.index).intersection(ret_epu.index)\n",
    "    cols = ret_orig.columns.intersection(ret_vol.columns).intersection(ret_epu.columns)\n",
    "\n",
    "    R0 = ret_orig.loc[idx, cols].astype(float)\n",
    "    Rv = ret_vol.loc[idx, cols].astype(float)\n",
    "    Re = ret_epu.loc[idx, cols].astype(float)\n",
    "\n",
    "    row_names = [\n",
    "        'SR: Original',\n",
    "        'SR: Vol-Managed',\n",
    "        'SR: EPU-Managed',\n",
    "        'ΔSR (Vol − Original)',\n",
    "        'p (Vol vs Orig)',\n",
    "        'ΔSR (EPU − Original)',\n",
    "        'p (EPU vs Orig)',\n",
    "        'ΔSR (EPU − Vol)',\n",
    "        'p (EPU vs Vol)',\n",
    "    ]\n",
    "    out = pd.DataFrame(index=row_names, columns=cols, dtype=float)\n",
    "\n",
    "    for f in cols:\n",
    "        df = pd.concat([R0[f], Rv[f], Re[f]], axis=1).dropna()\n",
    "        df.columns = ['orig', 'vol', 'epu']\n",
    "\n",
    "        SR0 = sharpe_ratio(df['orig'], freq=freq, rf=rf).item()\n",
    "        SRv = sharpe_ratio(df['vol'],  freq=freq, rf=rf).item()\n",
    "        SRe = sharpe_ratio(df['epu'],  freq=freq, rf=rf).item()\n",
    "\n",
    "        t_v0 = ledoit_wolf_sr_test(df['orig'], df['vol'], freq=freq, rf=rf,\n",
    "                                   n_boot=n_boot, block_len=block_len, seed=seed)\n",
    "        t_e0 = ledoit_wolf_sr_test(df['orig'], df['epu'], freq=freq, rf=rf,\n",
    "                                   n_boot=n_boot, block_len=block_len, seed=seed+1)\n",
    "        t_ev = ledoit_wolf_sr_test(df['vol'],  df['epu'], freq=freq, rf=rf,\n",
    "                                   n_boot=n_boot, block_len=block_len, seed=seed+2)\n",
    "\n",
    "        out.loc['SR: Original',           f] = SR0\n",
    "        out.loc['SR: Vol-Managed',        f] = SRv\n",
    "        out.loc['SR: EPU-Managed',        f] = SRe\n",
    "        out.loc['ΔSR (Vol − Original)',   f] = t_v0['diff']\n",
    "        out.loc['p (Vol vs Orig)',        f] = t_v0['p_boot']\n",
    "        out.loc['ΔSR (EPU − Original)',   f] = t_e0['diff']\n",
    "        out.loc['p (EPU vs Orig)',        f] = t_e0['p_boot']\n",
    "        out.loc['ΔSR (EPU − Vol)',        f] = t_ev['diff']\n",
    "        out.loc['p (EPU vs Vol)',         f] = t_ev['p_boot']\n",
    "\n",
    "    return out\n",
    "\n"
   ]
  },
  {
   "cell_type": "code",
   "execution_count": 18,
   "metadata": {},
   "outputs": [],
   "source": [
    "# Assuming you already have:\n",
    "# factor_ret_m                 # original factors (monthly)\n",
    "# factor_ret_vol_managed_m     # vol-managed (monthly)\n",
    "# factor_ret_epu_managed_m     # EPU-managed (monthly)\n",
    "\n",
    "tbl = build_sr_diff_table(\n",
    "    ret_orig=factor_ret_m,\n",
    "    ret_vol=factor_ret_vol_managed_m,\n",
    "    ret_epu=factor_ret_epu_managed_m,\n",
    "    freq=12,            # monthly → annualize by sqrt(12)\n",
    "    rf=None,            # factors are already excess; pass a Series if needed\n",
    "    n_boot=10000,        # tune up if you want tighter bootstrap p-values\n",
    "    block_len=6,        # 6-month blocks for bootstrapping\n",
    "    seed=2025\n",
    ")"
   ]
  },
  {
   "cell_type": "code",
   "execution_count": 19,
   "metadata": {},
   "outputs": [
    {
     "data": {
      "text/html": [
       "<div>\n",
       "<style scoped>\n",
       "    .dataframe tbody tr th:only-of-type {\n",
       "        vertical-align: middle;\n",
       "    }\n",
       "\n",
       "    .dataframe tbody tr th {\n",
       "        vertical-align: top;\n",
       "    }\n",
       "\n",
       "    .dataframe thead th {\n",
       "        text-align: right;\n",
       "    }\n",
       "</style>\n",
       "<table border=\"1\" class=\"dataframe\">\n",
       "  <thead>\n",
       "    <tr style=\"text-align: right;\">\n",
       "      <th></th>\n",
       "      <th>MKT</th>\n",
       "      <th>SMB</th>\n",
       "      <th>HML</th>\n",
       "      <th>RMW</th>\n",
       "      <th>CMA</th>\n",
       "    </tr>\n",
       "  </thead>\n",
       "  <tbody>\n",
       "    <tr>\n",
       "      <th>SR: Original</th>\n",
       "      <td>0.397</td>\n",
       "      <td>-0.256</td>\n",
       "      <td>0.259</td>\n",
       "      <td>0.178</td>\n",
       "      <td>0.242</td>\n",
       "    </tr>\n",
       "    <tr>\n",
       "      <th>SR: Vol-Managed</th>\n",
       "      <td>0.513</td>\n",
       "      <td>-0.225</td>\n",
       "      <td>0.393</td>\n",
       "      <td>0.306</td>\n",
       "      <td>0.127</td>\n",
       "    </tr>\n",
       "    <tr>\n",
       "      <th>SR: EPU-Managed</th>\n",
       "      <td>0.515</td>\n",
       "      <td>-0.236</td>\n",
       "      <td>0.307</td>\n",
       "      <td>0.236</td>\n",
       "      <td>0.197</td>\n",
       "    </tr>\n",
       "    <tr>\n",
       "      <th>ΔSR (Vol − Original)</th>\n",
       "      <td>0.116</td>\n",
       "      <td>0.031</td>\n",
       "      <td>0.134</td>\n",
       "      <td>0.127</td>\n",
       "      <td>-0.115</td>\n",
       "    </tr>\n",
       "    <tr>\n",
       "      <th>p (Vol vs Orig)</th>\n",
       "      <td>0.969</td>\n",
       "      <td>0.977</td>\n",
       "      <td>0.965</td>\n",
       "      <td>0.980</td>\n",
       "      <td>0.977</td>\n",
       "    </tr>\n",
       "    <tr>\n",
       "      <th>ΔSR (EPU − Original)</th>\n",
       "      <td>0.118</td>\n",
       "      <td>0.020</td>\n",
       "      <td>0.049</td>\n",
       "      <td>0.057</td>\n",
       "      <td>-0.045</td>\n",
       "    </tr>\n",
       "    <tr>\n",
       "      <th>p (EPU vs Orig)</th>\n",
       "      <td>0.940</td>\n",
       "      <td>0.982</td>\n",
       "      <td>0.998</td>\n",
       "      <td>0.950</td>\n",
       "      <td>0.974</td>\n",
       "    </tr>\n",
       "    <tr>\n",
       "      <th>ΔSR (EPU − Vol)</th>\n",
       "      <td>0.002</td>\n",
       "      <td>-0.011</td>\n",
       "      <td>-0.085</td>\n",
       "      <td>-0.070</td>\n",
       "      <td>0.070</td>\n",
       "    </tr>\n",
       "    <tr>\n",
       "      <th>p (EPU vs Vol)</th>\n",
       "      <td>0.992</td>\n",
       "      <td>0.982</td>\n",
       "      <td>0.970</td>\n",
       "      <td>0.950</td>\n",
       "      <td>0.965</td>\n",
       "    </tr>\n",
       "  </tbody>\n",
       "</table>\n",
       "</div>"
      ],
      "text/plain": [
       "                        MKT    SMB    HML    RMW    CMA\n",
       "SR: Original          0.397 -0.256  0.259  0.178  0.242\n",
       "SR: Vol-Managed       0.513 -0.225  0.393  0.306  0.127\n",
       "SR: EPU-Managed       0.515 -0.236  0.307  0.236  0.197\n",
       "ΔSR (Vol − Original)  0.116  0.031  0.134  0.127 -0.115\n",
       "p (Vol vs Orig)       0.969  0.977  0.965  0.980  0.977\n",
       "ΔSR (EPU − Original)  0.118  0.020  0.049  0.057 -0.045\n",
       "p (EPU vs Orig)       0.940  0.982  0.998  0.950  0.974\n",
       "ΔSR (EPU − Vol)       0.002 -0.011 -0.085 -0.070  0.070\n",
       "p (EPU vs Vol)        0.992  0.982  0.970  0.950  0.965"
      ]
     },
     "execution_count": 19,
     "metadata": {},
     "output_type": "execute_result"
    }
   ],
   "source": [
    "tbl.round(3)"
   ]
  },
  {
   "cell_type": "code",
   "execution_count": 20,
   "metadata": {},
   "outputs": [
    {
     "name": "stdout",
     "output_type": "stream",
     "text": [
      "\\begin{tabular}{lrrrrr}\n",
      "\\toprule\n",
      " & MKT & SMB & HML & RMW & CMA \\\\\n",
      "\\midrule\n",
      "SR: Original & 0.397 & -0.256 & 0.259 & 0.178 & 0.242 \\\\\n",
      "SR: Vol-Managed & 0.513 & -0.225 & 0.393 & 0.306 & 0.127 \\\\\n",
      "SR: EPU-Managed & 0.515 & -0.236 & 0.307 & 0.236 & 0.197 \\\\\n",
      "ΔSR (Vol − Original) & 0.116 & 0.031 & 0.134 & 0.127 & -0.115 \\\\\n",
      "p (Vol vs Orig) & 0.969 & 0.977 & 0.965 & 0.980 & 0.977 \\\\\n",
      "ΔSR (EPU − Original) & 0.118 & 0.020 & 0.049 & 0.057 & -0.045 \\\\\n",
      "p (EPU vs Orig) & 0.940 & 0.982 & 0.998 & 0.950 & 0.974 \\\\\n",
      "ΔSR (EPU − Vol) & 0.002 & -0.011 & -0.085 & -0.070 & 0.070 \\\\\n",
      "p (EPU vs Vol) & 0.992 & 0.982 & 0.970 & 0.950 & 0.965 \\\\\n",
      "\\bottomrule\n",
      "\\end{tabular}\n",
      "\n"
     ]
    }
   ],
   "source": [
    "# (optional) export LaTeX straight away\n",
    "latex_table = tbl.to_latex(float_format=\"%.3f\")\n",
    "print(latex_table)"
   ]
  },
  {
   "cell_type": "markdown",
   "metadata": {},
   "source": [
    "### 4.3 functions for alphas"
   ]
  },
  {
   "cell_type": "code",
   "execution_count": 21,
   "metadata": {},
   "outputs": [],
   "source": [
    "import numpy as np\n",
    "import pandas as pd\n",
    "import statsmodels.api as sm\n",
    "\n",
    "def _coerce_numeric(df: pd.DataFrame) -> pd.DataFrame:\n",
    "    \"\"\"Force all columns to float; drop rows that cannot be coerced.\"\"\"\n",
    "    for c in df.columns:\n",
    "        df[c] = pd.to_numeric(df[c], errors='coerce')\n",
    "    return df.dropna(how='any')\n",
    "\n",
    "def alpha_regression(dep: pd.Series,\n",
    "                     base: pd.Series,\n",
    "                     controls: pd.DataFrame = None,\n",
    "                     lags: int = 6):\n",
    "    \"\"\"\n",
    "    Managed factor (dep) on unmanaged base (+ optional controls).\n",
    "    Returns α, p(α), R², RMSE, N with HAC (NW) standard errors.\n",
    "    \"\"\"\n",
    "    # Align on common dates and build design matrix\n",
    "    parts = {'y': dep, 'base': base}\n",
    "    df = pd.concat(parts, axis=1, join='inner')\n",
    "\n",
    "    if controls is not None and len(controls.columns) > 0:\n",
    "        # keep only controls that exist on the same dates\n",
    "        ctrl = controls.reindex(df.index)\n",
    "        df = pd.concat([df, ctrl], axis=1)\n",
    "\n",
    "    # Coerce strictly numeric\n",
    "    df = _coerce_numeric(df)\n",
    "\n",
    "    y = df['y']\n",
    "    X = df.drop(columns='y')\n",
    "    X = sm.add_constant(X)\n",
    "\n",
    "    # Safety check (helps diagnose if something still off)\n",
    "    assert np.issubdtype(y.dtype, np.number), f\"y dtype is {y.dtype}\"\n",
    "    assert all(np.issubdtype(X[c].dtype, np.number) for c in X.columns), \\\n",
    "        f\"Non-numeric exog dtypes: {X.dtypes}\"\n",
    "\n",
    "    mod = sm.OLS(y, X, missing='drop').fit(\n",
    "        cov_type='HAC', cov_kwds={'maxlags': int(lags)}\n",
    "    )\n",
    "    return {\n",
    "        'alpha': float(mod.params['const']),\n",
    "        'p_alpha': float(mod.pvalues['const']),\n",
    "        'R2': float(mod.rsquared),\n",
    "        'RMSE': float(np.sqrt(mod.scale)),\n",
    "        'N': int(mod.nobs)\n",
    "    }\n",
    "\n",
    "def build_alpha_table(ret_orig: pd.DataFrame,\n",
    "                      ret_vol: pd.DataFrame,\n",
    "                      ret_epu: pd.DataFrame,\n",
    "                      lags: int = 6,\n",
    "                      controls: str = None):\n",
    "    \"\"\"\n",
    "    Columns = factors common to all three frames.\n",
    "    Rows report α / p / R² / RMSE / N for:\n",
    "      - Vol-managed vs Original\n",
    "      - EPU-managed vs Original\n",
    "    controls: None | 'others'\n",
    "    \"\"\"\n",
    "    # Ensure column names are strings (avoids weird object-columns later)\n",
    "    ret_orig = ret_orig.copy(); ret_orig.columns = ret_orig.columns.astype(str)\n",
    "    ret_vol  = ret_vol.copy();  ret_vol.columns  = ret_vol.columns.astype(str)\n",
    "    ret_epu  = ret_epu.copy();  ret_epu.columns  = ret_epu.columns.astype(str)\n",
    "\n",
    "    # intersect columns\n",
    "    factors = sorted(set(ret_orig.columns) & set(ret_vol.columns) & set(ret_epu.columns))\n",
    "\n",
    "    rows = [\n",
    "        'α (Vol vs Orig)', 'p (Vol vs Orig)', 'R² (Vol vs Orig)',\n",
    "        'RMSE (Vol vs Orig)', 'N (Vol vs Orig)',\n",
    "        'α (EPU vs Orig)', 'p (EPU vs Orig)', 'R² (EPU vs Orig)',\n",
    "        'RMSE (EPU vs Orig)', 'N (EPU vs Orig)'\n",
    "    ]\n",
    "    table = pd.DataFrame(index=rows, columns=factors, dtype=float)\n",
    "\n",
    "    for f in factors:\n",
    "        ctrls = None\n",
    "        if controls == 'others':\n",
    "            ctrls = ret_orig.drop(columns=f)\n",
    "\n",
    "        res_v = alpha_regression(\n",
    "            dep=ret_vol[f], base=ret_orig[f], controls=ctrls, lags=lags\n",
    "        )\n",
    "        res_e = alpha_regression(\n",
    "            dep=ret_epu[f], base=ret_orig[f], controls=ctrls, lags=lags\n",
    "        )\n",
    "\n",
    "        table.loc['α (Vol vs Orig)',    f] = res_v['alpha']*12 # to give yearly data\n",
    "        table.loc['p (Vol vs Orig)',    f] = res_v['p_alpha']\n",
    "        table.loc['R² (Vol vs Orig)',   f] = res_v['R2']\n",
    "        table.loc['RMSE (Vol vs Orig)', f] = res_v['RMSE']\n",
    "        table.loc['N (Vol vs Orig)',    f] = res_v['N']\n",
    "\n",
    "        table.loc['α (EPU vs Orig)',    f] = res_e['alpha']*12 # to give yearly data\n",
    "        table.loc['p (EPU vs Orig)',    f] = res_e['p_alpha']\n",
    "        table.loc['R² (EPU vs Orig)',   f] = res_e['R2']\n",
    "        table.loc['RMSE (EPU vs Orig)', f] = res_e['RMSE']\n",
    "        table.loc['N (EPU vs Orig)',    f] = res_e['N']\n",
    "\n",
    "    return table\n",
    "\n",
    "def alpha_table_to_latex(df: pd.DataFrame,\n",
    "                         caption=\"Alpha tests: managed vs. original factors\",\n",
    "                         label=\"tab:alpha_tests\",\n",
    "                         digits=3):\n",
    "    colspec = 'l' + 'r'*df.shape[1]\n",
    "    return df.round(digits).to_latex(\n",
    "        escape=False,\n",
    "        column_format=colspec,\n",
    "        caption=caption,\n",
    "        label=label\n",
    "    )\n"
   ]
  },
  {
   "cell_type": "code",
   "execution_count": 23,
   "metadata": {},
   "outputs": [
    {
     "data": {
      "text/html": [
       "<div>\n",
       "<style scoped>\n",
       "    .dataframe tbody tr th:only-of-type {\n",
       "        vertical-align: middle;\n",
       "    }\n",
       "\n",
       "    .dataframe tbody tr th {\n",
       "        vertical-align: top;\n",
       "    }\n",
       "\n",
       "    .dataframe thead th {\n",
       "        text-align: right;\n",
       "    }\n",
       "</style>\n",
       "<table border=\"1\" class=\"dataframe\">\n",
       "  <thead>\n",
       "    <tr style=\"text-align: right;\">\n",
       "      <th></th>\n",
       "      <th>CMA</th>\n",
       "      <th>HML</th>\n",
       "      <th>MKT</th>\n",
       "      <th>RMW</th>\n",
       "      <th>SMB</th>\n",
       "    </tr>\n",
       "  </thead>\n",
       "  <tbody>\n",
       "    <tr>\n",
       "      <th>α (Vol vs Orig)</th>\n",
       "      <td>0.0023</td>\n",
       "      <td>0.0005</td>\n",
       "      <td>0.0032</td>\n",
       "      <td>0.0000</td>\n",
       "      <td>-0.0018</td>\n",
       "    </tr>\n",
       "    <tr>\n",
       "      <th>p (Vol vs Orig)</th>\n",
       "      <td>0.1306</td>\n",
       "      <td>0.8164</td>\n",
       "      <td>0.4800</td>\n",
       "      <td>0.9801</td>\n",
       "      <td>0.3750</td>\n",
       "    </tr>\n",
       "    <tr>\n",
       "      <th>R² (Vol vs Orig)</th>\n",
       "      <td>0.3849</td>\n",
       "      <td>0.3546</td>\n",
       "      <td>0.3850</td>\n",
       "      <td>0.3318</td>\n",
       "      <td>0.5814</td>\n",
       "    </tr>\n",
       "    <tr>\n",
       "      <th>RMSE (Vol vs Orig)</th>\n",
       "      <td>0.0032</td>\n",
       "      <td>0.0048</td>\n",
       "      <td>0.0091</td>\n",
       "      <td>0.0038</td>\n",
       "      <td>0.0040</td>\n",
       "    </tr>\n",
       "    <tr>\n",
       "      <th>N (Vol vs Orig)</th>\n",
       "      <td>617.0000</td>\n",
       "      <td>617.0000</td>\n",
       "      <td>617.0000</td>\n",
       "      <td>617.0000</td>\n",
       "      <td>617.0000</td>\n",
       "    </tr>\n",
       "    <tr>\n",
       "      <th>α (EPU vs Orig)</th>\n",
       "      <td>0.0016</td>\n",
       "      <td>0.0011</td>\n",
       "      <td>0.0059</td>\n",
       "      <td>0.0009</td>\n",
       "      <td>-0.0013</td>\n",
       "    </tr>\n",
       "    <tr>\n",
       "      <th>p (EPU vs Orig)</th>\n",
       "      <td>0.3000</td>\n",
       "      <td>0.5396</td>\n",
       "      <td>0.1352</td>\n",
       "      <td>0.4933</td>\n",
       "      <td>0.4518</td>\n",
       "    </tr>\n",
       "    <tr>\n",
       "      <th>R² (EPU vs Orig)</th>\n",
       "      <td>0.3676</td>\n",
       "      <td>0.3961</td>\n",
       "      <td>0.4717</td>\n",
       "      <td>0.3242</td>\n",
       "      <td>0.5580</td>\n",
       "    </tr>\n",
       "    <tr>\n",
       "      <th>RMSE (EPU vs Orig)</th>\n",
       "      <td>0.0031</td>\n",
       "      <td>0.0042</td>\n",
       "      <td>0.0076</td>\n",
       "      <td>0.0036</td>\n",
       "      <td>0.0038</td>\n",
       "    </tr>\n",
       "    <tr>\n",
       "      <th>N (EPU vs Orig)</th>\n",
       "      <td>617.0000</td>\n",
       "      <td>617.0000</td>\n",
       "      <td>617.0000</td>\n",
       "      <td>617.0000</td>\n",
       "      <td>617.0000</td>\n",
       "    </tr>\n",
       "  </tbody>\n",
       "</table>\n",
       "</div>"
      ],
      "text/plain": [
       "                         CMA       HML       MKT       RMW       SMB\n",
       "α (Vol vs Orig)       0.0023    0.0005    0.0032    0.0000   -0.0018\n",
       "p (Vol vs Orig)       0.1306    0.8164    0.4800    0.9801    0.3750\n",
       "R² (Vol vs Orig)      0.3849    0.3546    0.3850    0.3318    0.5814\n",
       "RMSE (Vol vs Orig)    0.0032    0.0048    0.0091    0.0038    0.0040\n",
       "N (Vol vs Orig)     617.0000  617.0000  617.0000  617.0000  617.0000\n",
       "α (EPU vs Orig)       0.0016    0.0011    0.0059    0.0009   -0.0013\n",
       "p (EPU vs Orig)       0.3000    0.5396    0.1352    0.4933    0.4518\n",
       "R² (EPU vs Orig)      0.3676    0.3961    0.4717    0.3242    0.5580\n",
       "RMSE (EPU vs Orig)    0.0031    0.0042    0.0076    0.0036    0.0038\n",
       "N (EPU vs Orig)     617.0000  617.0000  617.0000  617.0000  617.0000"
      ]
     },
     "execution_count": 23,
     "metadata": {},
     "output_type": "execute_result"
    }
   ],
   "source": [
    "build_alpha_table(ret_orig = factor_ret_vol_managed_m,\n",
    "                      ret_vol = factor_ret_m,\n",
    "                      ret_epu = factor_ret_epu_managed_m,\n",
    "                      lags = 6,\n",
    "                      controls = None).round(4)"
   ]
  },
  {
   "cell_type": "code",
   "execution_count": null,
   "metadata": {},
   "outputs": [],
   "source": []
  }
 ],
 "metadata": {
  "kernelspec": {
   "display_name": "Python 3 (ipykernel)",
   "language": "python",
   "name": "python3"
  },
  "language_info": {
   "codemirror_mode": {
    "name": "ipython",
    "version": 3
   },
   "file_extension": ".py",
   "mimetype": "text/x-python",
   "name": "python",
   "nbconvert_exporter": "python",
   "pygments_lexer": "ipython3",
   "version": "3.8.9"
  }
 },
 "nbformat": 4,
 "nbformat_minor": 4
}
